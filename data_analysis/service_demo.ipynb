{
 "cells": [
  {
   "cell_type": "code",
   "execution_count": 1,
   "metadata": {},
   "outputs": [],
   "source": [
    "from monitoring.data_monitor import DataMonitor\n",
    "from zfinance.finance_data import FinanceData\n",
    "from logging import config\n"
   ]
  },
  {
   "cell_type": "code",
   "execution_count": 2,
   "metadata": {},
   "outputs": [],
   "source": [
    "config.fileConfig(\"configs/logging_default.ini\")"
   ]
  },
  {
   "cell_type": "code",
   "execution_count": null,
   "metadata": {},
   "outputs": [
    {
     "name": "stdout",
     "output_type": "stream",
     "text": [
      "2024-12-03 00:38:11,458 - monitoring.data_monitor - INFO - Начало загрузки данных за последний день\n",
      "2024-12-03 00:38:12,852 - monitoring.data_monitor - INFO - Загрузка прошла успешно\n",
      "2024-12-03 00:38:12,854 - monitoring.data_monitor - INFO - Сервис запустился\n"
     ]
    },
    {
     "name": "stdout",
     "output_type": "stream",
     "text": [
      "2024-12-03 00:38:13,142 - monitoring.data_monitor - INFO - Данные записаны в файл: out.txt\n",
      "2024-12-03 00:38:18,385 - monitoring.data_monitor - INFO - Данные записаны в файл: out.txt\n"
     ]
    }
   ],
   "source": [
    "data = FinanceData(\"AAPL\")\n",
    "monitor = DataMonitor(data)\n",
    "monitor.run()"
   ]
  },
  {
   "cell_type": "code",
   "execution_count": 4,
   "metadata": {},
   "outputs": [
    {
     "name": "stdout",
     "output_type": "stream",
     "text": [
      "2024-12-03 00:38:23,387 - monitoring.data_monitor - INFO - Сервис завершил работу\n"
     ]
    }
   ],
   "source": [
    "monitor.stop()"
   ]
  }
 ],
 "metadata": {
  "kernelspec": {
   "display_name": "Python 3",
   "language": "python",
   "name": "python3"
  },
  "language_info": {
   "codemirror_mode": {
    "name": "ipython",
    "version": 3
   },
   "file_extension": ".py",
   "mimetype": "text/x-python",
   "name": "python",
   "nbconvert_exporter": "python",
   "pygments_lexer": "ipython3",
   "version": "3.11.0"
  }
 },
 "nbformat": 4,
 "nbformat_minor": 2
}
